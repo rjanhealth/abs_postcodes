{
 "metadata": {
  "language_info": {
   "codemirror_mode": {
    "name": "ipython",
    "version": 3
   },
   "file_extension": ".py",
   "mimetype": "text/x-python",
   "name": "python",
   "nbconvert_exporter": "python",
   "pygments_lexer": "ipython3",
   "version": "3.9.2"
  },
  "orig_nbformat": 2,
  "kernelspec": {
   "name": "python392jvsc74a57bd026e36362cb8b07bc21426d265b7c85421e7f7c14fd8b27d7ed99a5505c1bd370",
   "display_name": "Python 3.9.2 64-bit"
  },
  "metadata": {
   "interpreter": {
    "hash": "26e36362cb8b07bc21426d265b7c85421e7f7c14fd8b27d7ed99a5505c1bd370"
   }
  }
 },
 "nbformat": 4,
 "nbformat_minor": 2,
 "cells": [
  {
   "source": [
    "# ABS Data Pack - Postcode Level"
   ],
   "cell_type": "markdown",
   "metadata": {}
  },
  {
   "source": [
    "## Last updated: 2021-05-12"
   ],
   "cell_type": "markdown",
   "metadata": {}
  },
  {
   "source": [
    "Set up notebook"
   ],
   "cell_type": "markdown",
   "metadata": {}
  },
  {
   "cell_type": "code",
   "execution_count": 1,
   "metadata": {},
   "outputs": [],
   "source": [
    "import numpy as np\n",
    "import pandas as pd\n",
    "import re"
   ]
  },
  {
   "source": [
    "Set path and load files"
   ],
   "cell_type": "markdown",
   "metadata": {}
  },
  {
   "cell_type": "code",
   "execution_count": null,
   "metadata": {},
   "outputs": [],
   "source": [
    "path ='C:\\\\Users\\\\vicsxk6\\\\OneDrive - Department of Health and Human Services. Victoria\\\\Documents\\\\Python Scripts\\\\abs_postcodes\\\\'\n",
    "#df = pd.read_csv(path+\"input\\xxx.csv\", low_memory=False, sep =\",\")"
   ]
  },
  {
   "source": [
    "ABS data sourced from - https://datapacks.censusdata.abs.gov.au/datapacks/"
   ],
   "cell_type": "markdown",
   "metadata": {}
  },
  {
   "source": [
    "Convert columns to upper and export to csv"
   ],
   "cell_type": "markdown",
   "metadata": {}
  },
  {
   "cell_type": "code",
   "execution_count": null,
   "metadata": {},
   "outputs": [],
   "source": [
    "xxx.columns= xxx.columns.str.upper()\n",
    "xxx.to_csv(path+\"output\\xxx.csv\", index=False)"
   ]
  }
 ]
}